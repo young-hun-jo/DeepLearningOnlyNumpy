{
 "cells": [
  {
   "cell_type": "markdown",
   "id": "10dbee71",
   "metadata": {
    "toc": true
   },
   "source": [
    "<h1>Table of Contents<span class=\"tocSkip\"></span></h1>\n",
    "<div class=\"toc\"><ul class=\"toc-item\"><li><span><a href=\"#step01\" data-toc-modified-id=\"step01-1\"><span class=\"toc-item-num\">1&nbsp;&nbsp;</span>step01</a></span></li><li><span><a href=\"#stepo02\" data-toc-modified-id=\"stepo02-2\"><span class=\"toc-item-num\">2&nbsp;&nbsp;</span>stepo02</a></span></li><li><span><a href=\"#step03\" data-toc-modified-id=\"step03-3\"><span class=\"toc-item-num\">3&nbsp;&nbsp;</span>step03</a></span></li><li><span><a href=\"#step04\" data-toc-modified-id=\"step04-4\"><span class=\"toc-item-num\">4&nbsp;&nbsp;</span>step04</a></span></li><li><span><a href=\"#Step05\" data-toc-modified-id=\"Step05-5\"><span class=\"toc-item-num\">5&nbsp;&nbsp;</span>Step05</a></span></li><li><span><a href=\"#Step07\" data-toc-modified-id=\"Step07-6\"><span class=\"toc-item-num\">6&nbsp;&nbsp;</span>Step07</a></span></li><li><span><a href=\"#Step08\" data-toc-modified-id=\"Step08-7\"><span class=\"toc-item-num\">7&nbsp;&nbsp;</span>Step08</a></span></li></ul></div>"
   ]
  },
  {
   "cell_type": "markdown",
   "id": "a04f1f64",
   "metadata": {},
   "source": [
    "## step01\n",
    "- 변수 클래스"
   ]
  },
  {
   "cell_type": "code",
   "execution_count": 1,
   "id": "3e9ab547",
   "metadata": {},
   "outputs": [],
   "source": [
    "class Variable:\n",
    "    def __init__(self, data):\n",
    "        self.data = data"
   ]
  },
  {
   "cell_type": "code",
   "execution_count": 2,
   "id": "17dded14",
   "metadata": {},
   "outputs": [
    {
     "name": "stdout",
     "output_type": "stream",
     "text": [
      "1.0\n"
     ]
    }
   ],
   "source": [
    "import numpy as np\n",
    "\n",
    "data = np.array(1.0)\n",
    "\n",
    "x = Variable(data)\n",
    "print(x.data)"
   ]
  },
  {
   "cell_type": "code",
   "execution_count": 3,
   "id": "9bd866d3",
   "metadata": {},
   "outputs": [
    {
     "name": "stdout",
     "output_type": "stream",
     "text": [
      "3.0\n"
     ]
    }
   ],
   "source": [
    "# x라는 상자에 다른 데이터 넣어보기\n",
    "x.data = np.array(3.0)\n",
    "print(x.data)"
   ]
  },
  {
   "cell_type": "markdown",
   "id": "ff1c8659",
   "metadata": {},
   "source": [
    "## stepo02\n",
    "- 함수 클래스"
   ]
  },
  {
   "cell_type": "code",
   "execution_count": 5,
   "id": "c51f895b",
   "metadata": {},
   "outputs": [],
   "source": [
    "class Function:\n",
    "    def __call__(self, input):\n",
    "        \"\"\" \n",
    "        [args] input: Variable 클래스에 저장되어 있는 데이터\n",
    "        \"\"\"\n",
    "        x = input.data\n",
    "        y = x ** 2\n",
    "        output = Variable(y)\n",
    "        return output"
   ]
  },
  {
   "cell_type": "code",
   "execution_count": 5,
   "id": "46ddaae7",
   "metadata": {},
   "outputs": [
    {
     "name": "stdout",
     "output_type": "stream",
     "text": [
      "<class '__main__.Variable'>\n",
      "144.0\n"
     ]
    }
   ],
   "source": [
    "data = np.array(12.0)\n",
    "x = Variable(data)\n",
    "f = Function()\n",
    "y = f(x)\n",
    "\n",
    "print(type(y))\n",
    "print(y.data)"
   ]
  },
  {
   "cell_type": "code",
   "execution_count": 9,
   "id": "fa52209c",
   "metadata": {},
   "outputs": [],
   "source": [
    "class Variable:\n",
    "    def __init__(self, data):\n",
    "        self.data = data\n",
    "        \n",
    "\n",
    "# 하지만 Function 클래스는 공통 함수들의 기반 클래스(부모 클래스)로 만들고 이를 상속받도록 하자!\n",
    "class Function:\n",
    "    def __call__(self, input):\n",
    "        \"\"\" \n",
    "        [args] input: Variable 클래스에 저장되어 있는 데이엍\n",
    "        \"\"\"\n",
    "        x = input.data\n",
    "        y = self.forward(x)\n",
    "        output = Variable(y)\n",
    "        return output\n",
    "    \n",
    "    def forward(self, x):\n",
    "        raise NotImplementedError(\"This method should be called in other function class\")\n",
    "        \n",
    "\n",
    "class Square(Function):\n",
    "    def forward(self, x):\n",
    "        return x ** 2"
   ]
  },
  {
   "cell_type": "code",
   "execution_count": 8,
   "id": "5e5a63f3",
   "metadata": {},
   "outputs": [],
   "source": [
    "# # error 발생하는 case\n",
    "# data = np.array(12.0)\n",
    "# x = Variable(data)\n",
    "# f = Function()\n",
    "# y = f(x)"
   ]
  },
  {
   "cell_type": "code",
   "execution_count": 11,
   "id": "f2664815",
   "metadata": {},
   "outputs": [
    {
     "name": "stdout",
     "output_type": "stream",
     "text": [
      "<class '__main__.Variable'>\n",
      "144.0\n"
     ]
    }
   ],
   "source": [
    "data = np.array(12.0)\n",
    "x = Variable(data)\n",
    "f = Square()\n",
    "y = f(x)\n",
    "print(type(y))\n",
    "print(y.data)"
   ]
  },
  {
   "cell_type": "markdown",
   "id": "829e3bb5",
   "metadata": {},
   "source": [
    "## step03"
   ]
  },
  {
   "cell_type": "code",
   "execution_count": 12,
   "id": "18d992ef",
   "metadata": {},
   "outputs": [],
   "source": [
    "import numpy as np\n",
    "\n",
    "# 변수 클래스\n",
    "class Variable:\n",
    "    def __init__(self, data):\n",
    "        self.data = data\n",
    "\n",
    "        \n",
    "# 함수 Base 클래스\n",
    "class Function:\n",
    "    def __call__(self, input):\n",
    "        x = input.data\n",
    "        y = self.forward(x)\n",
    "        output = Variable(y)\n",
    "        return output\n",
    "    \n",
    "    \n",
    "# Square 함수\n",
    "class Square(Function):\n",
    "    def forward(self, x):\n",
    "        return x ** 2\n",
    "    \n",
    "\n",
    "# Exp 함수\n",
    "class Exp(Function):\n",
    "    def forward(self, x):\n",
    "        return np.exp(x)    "
   ]
  },
  {
   "cell_type": "code",
   "execution_count": 15,
   "id": "5c2cbb4d",
   "metadata": {},
   "outputs": [
    {
     "name": "stdout",
     "output_type": "stream",
     "text": [
      "<class '__main__.Variable'>\n",
      "1.648721270700128\n"
     ]
    }
   ],
   "source": [
    "# 함수 연결 즉, 여러함수를 연결한 큰 합성함수 만들기 -> 가능한 이유: 각 함수를 적용해 나오는 결과값이 인스턴스 변수에 저장되기 때문!\n",
    "\n",
    "func1 = Square()\n",
    "func2 = Exp()\n",
    "\n",
    "data = np.array(0.5)\n",
    "x = Variable(data)\n",
    "a = func1(x)\n",
    "b = func2(a)\n",
    "c = func1(b)\n",
    "\n",
    "print(type(c))\n",
    "print(c.data)"
   ]
  },
  {
   "cell_type": "markdown",
   "id": "df006567",
   "metadata": {},
   "source": [
    "## step04"
   ]
  },
  {
   "cell_type": "code",
   "execution_count": 18,
   "id": "354a467c",
   "metadata": {},
   "outputs": [],
   "source": [
    "# 수치 미분하는 함수\n",
    "def numerical_diff(f, x, eps=1e-4):\n",
    "    \"\"\"\n",
    "    [args] f: 미분할 함수\n",
    "    [args] x: 어떤 변수를 사용해서 미분을 할지 -> 이것도 Variable 클래스\n",
    "    [args] eps: 수치미분 공식에 사용되는 h값\n",
    "    \"\"\"\n",
    "    # x-h, x+h\n",
    "    x0 = Variable(x.data - eps)\n",
    "    x1 = Variable(x.data + eps)\n",
    "    # f(x-h), f(x+h)\n",
    "    y0 = f(x0)\n",
    "    y1 = f(x1)\n",
    "    \n",
    "    return (y1.data - y0.data) / (2*eps)"
   ]
  },
  {
   "cell_type": "code",
   "execution_count": 19,
   "id": "98a0c7bc",
   "metadata": {},
   "outputs": [
    {
     "name": "stdout",
     "output_type": "stream",
     "text": [
      "4.000000000004\n"
     ]
    }
   ],
   "source": [
    "f = Square()\n",
    "x = Variable(np.array(2.0))\n",
    "d = numerical_diff(f, x)\n",
    "print(d)"
   ]
  },
  {
   "cell_type": "code",
   "execution_count": 20,
   "id": "4a729570",
   "metadata": {},
   "outputs": [],
   "source": [
    "# 이번에는 합성함수를 사용해서 수치미분\n",
    "def composite_f(x):\n",
    "    func1 = Square()\n",
    "    func2 = Exp()\n",
    "    \n",
    "    return func1(func2(func1(x)))"
   ]
  },
  {
   "cell_type": "code",
   "execution_count": 21,
   "id": "0a099511",
   "metadata": {},
   "outputs": [
    {
     "name": "stdout",
     "output_type": "stream",
     "text": [
      "3.2974426293330694\n"
     ]
    }
   ],
   "source": [
    "x = Variable(np.array(0.5))\n",
    "dy = numerical_diff(composite_f, x)\n",
    "print(dy)"
   ]
  },
  {
   "cell_type": "markdown",
   "id": "2c646e7a",
   "metadata": {},
   "source": [
    "---"
   ]
  },
  {
   "cell_type": "code",
   "execution_count": 6,
   "id": "afb87cfb",
   "metadata": {},
   "outputs": [
    {
     "name": "stdout",
     "output_type": "stream",
     "text": [
      "12.0\n"
     ]
    }
   ],
   "source": [
    "import numpy as np\n",
    "\n",
    "\n",
    "class Variable:\n",
    "    def __init__(self, data):\n",
    "        self.data = data\n",
    "\n",
    "        \n",
    "x = Variable(np.array(12.0))\n",
    "print(x.data)"
   ]
  },
  {
   "cell_type": "code",
   "execution_count": 8,
   "id": "2b9c125c",
   "metadata": {},
   "outputs": [
    {
     "name": "stdout",
     "output_type": "stream",
     "text": [
      "<class '__main__.Variable'> 100\n"
     ]
    }
   ],
   "source": [
    "import numpy as np\n",
    "\n",
    "\n",
    "class Variable:\n",
    "    def __init__(self, data):\n",
    "        self.data = data\n",
    "        \n",
    "        \n",
    "class Function:\n",
    "    def __call__(self, input):\n",
    "        \"\"\" \n",
    "        [args] input: Variable 클래스에 저장되어 있는 데이터\n",
    "        \"\"\"\n",
    "        x = input.data\n",
    "        y = x ** 2\n",
    "        output = Variable(y)\n",
    "        return output\n",
    "    \n",
    "\n",
    "x = Variable(np.array(10))\n",
    "f = Function()\n",
    "output = f(x)\n",
    "print(type(output), output.data)"
   ]
  },
  {
   "cell_type": "code",
   "execution_count": 14,
   "id": "142f2c28",
   "metadata": {},
   "outputs": [
    {
     "name": "stdout",
     "output_type": "stream",
     "text": [
      "<class '__main__.Variable'> 1.1934680253072107e+125\n"
     ]
    }
   ],
   "source": [
    "import numpy as np\n",
    "\n",
    "\n",
    "class Variable:\n",
    "    def __init__(self, data):\n",
    "        self.data = data\n",
    "        \n",
    "        \n",
    "# 함수의 공통 클래스\n",
    "class Function:\n",
    "    def __call__(self, input):\n",
    "        \"\"\" \n",
    "        [args] input: Variable 클래스에 저장되어 있는 데이터\n",
    "        \"\"\"\n",
    "        x = input.data\n",
    "        y = self.forward(x)\n",
    "        output = Variable(y)\n",
    "        return output\n",
    "    \n",
    "    def forward(self, x):\n",
    "        raise NotImplementedError(\"This method should be called in other function class\")\n",
    "    \n",
    "\n",
    "# 제곱 함수\n",
    "class Square(Function):\n",
    "    def forward(self, x):\n",
    "        return x ** 2\n",
    "    \n",
    "# 지수 함수\n",
    "class Exp(Function):\n",
    "    def forward(self, x):\n",
    "        return np.exp(x)\n",
    "    \n",
    "\n",
    "data = Variable(np.array(12.0))\n",
    "A = Square()\n",
    "B = Exp()\n",
    "C = Square()\n",
    "\n",
    "output = C(B(A(data)))\n",
    "print(type(output), output.data)"
   ]
  },
  {
   "cell_type": "code",
   "execution_count": 16,
   "id": "861b4879",
   "metadata": {},
   "outputs": [
    {
     "name": "stdout",
     "output_type": "stream",
     "text": [
      "23847.666917060906\n"
     ]
    }
   ],
   "source": [
    "def numerical_diff(func, x, eps=1e-4):\n",
    "    \"\"\"\n",
    "    [args] func: 수치 미분을 적용할 함수\n",
    "    [args] x : 미분을 적용할 기준이 되는 변수가 담긴 Variable 클래스\n",
    "    [args] eps : 수치 미분 수행할 때 사용하는 미세한 차이(epsilon)값\n",
    "    \"\"\"\n",
    "    x0 = Variable(x.data - eps)\n",
    "    x1 = Variable(x.data + eps)\n",
    "    y0 = func(x0)\n",
    "    y1 = func(x1)\n",
    "    return (y1.data - y0.data) / (2*eps)\n",
    "\n",
    "\n",
    "def composite_f(x):\n",
    "    A = Square()\n",
    "    B = Exp()\n",
    "    C = Square()\n",
    "    \n",
    "    return C(B(A(x)))\n",
    "\n",
    "x = Variable(np.array(2.0))\n",
    "dy = numerical_diff(composite_f, x)\n",
    "print(dy)"
   ]
  },
  {
   "cell_type": "markdown",
   "id": "f67c2a65",
   "metadata": {},
   "source": [
    "## Step05"
   ]
  },
  {
   "cell_type": "code",
   "execution_count": 3,
   "id": "db944de6",
   "metadata": {},
   "outputs": [
    {
     "name": "stdout",
     "output_type": "stream",
     "text": [
      "<class '__main__.Variable'> 순전파 결과값: 1.648721270700128\n",
      "<class '__main__.Variable'> 역전파 결과값(미분값): 3.297442541400256\n"
     ]
    }
   ],
   "source": [
    "# 역전파 클래스를 구현하는 것을 전제하고 만드는 변수 클래스 다시 작성\n",
    "import numpy as np\n",
    "\n",
    "\n",
    "class Variable:\n",
    "    def __init__(self, data):\n",
    "        self.data = data\n",
    "        self.grad = None\n",
    "        \n",
    "\n",
    "# Function 클래스\n",
    "class Function:\n",
    "    def __call__(self, input):\n",
    "        \"\"\"\n",
    "        [args] input: Variable 클래스에 저장되어 있는 데이터\n",
    "        \"\"\"\n",
    "        x = input.data\n",
    "        y = self.forward(x)\n",
    "        output = Variable(y)\n",
    "        self.input = input  # 입력 변수를 캐싱 for 역전파 시 사용\n",
    "        return output\n",
    "    \n",
    "    def forward(self, x):\n",
    "        raise NotImplementedError(\"This method should be called in other function class\")\n",
    "        \n",
    "    def backward(self, gy):\n",
    "        raise NotImplementedError(\"This method should be called in other function class\")\n",
    "        \n",
    "\n",
    "# 제곱 함수 클래스 구현\n",
    "class Square(Function):\n",
    "    def forward(self, x):\n",
    "        return x ** 2\n",
    "    \n",
    "    def backward(self, gy=1):\n",
    "        x = self.input.data    # 순전파 시 캐싱해두었던 값을 가져오기\n",
    "        gx = 2 * x * gy\n",
    "        return gx\n",
    "    \n",
    "\n",
    "# 지수 함수 클래스 구현 -> 지수 함수 미분 공식은 예전 포스팅 참조 https://techblog-history-younghunjo1.tistory.com/376?category=1021615\n",
    "class Exp(Function):\n",
    "    def forward(self, x):\n",
    "        return np.exp(x)\n",
    "    \n",
    "    def backward(self, gy=1):\n",
    "        x = self.input.data\n",
    "        gx = np.exp(x) * gy\n",
    "        return gx\n",
    "    \n",
    "\n",
    "# 합성함수 순전파 구현\n",
    "data = Variable(np.array(0.5))\n",
    "A = Square()\n",
    "B = Exp()\n",
    "C = Square()\n",
    "\n",
    "a = A(data)\n",
    "b = B(a)\n",
    "y = C(b)\n",
    "\n",
    "print(type(y), '순전파 결과값:', y.data)\n",
    "\n",
    "# 합성함수 역전파 구현\n",
    "y.grad = np.array(1.0)\n",
    "b.grad = C.backward(gy=y.grad)\n",
    "a.grad = B.backward(gy=b.grad)\n",
    "data.grad = A.backward(gy=a.grad)\n",
    "print(type(data), '역전파 결과값(미분값):', data.grad)\n",
    "\n",
    "        "
   ]
  },
  {
   "cell_type": "markdown",
   "id": "1c67df25",
   "metadata": {},
   "source": [
    "## Step07\n",
    "- Step06은 역전파 이론"
   ]
  },
  {
   "cell_type": "code",
   "execution_count": 9,
   "id": "cf662ec7",
   "metadata": {},
   "outputs": [
    {
     "name": "stdout",
     "output_type": "stream",
     "text": [
      "역전파 결과 미분값: 3.297442541400256\n"
     ]
    }
   ],
   "source": [
    "# 모든 함수와 모든 변수의 연결을 기록!\n",
    "# 함수 = 변수의 창조자(부모)\n",
    "import numpy as np\n",
    "\n",
    "class Variable:\n",
    "    def __init__(self, data):\n",
    "        self.data = data\n",
    "        self.grad = None     # 변수의 기울기를 기록\n",
    "        self.creator = None  # 변수를 만든 함수를 기록\n",
    "        \n",
    "    def set_creator(self, func):\n",
    "        self.creator = func\n",
    "        \n",
    "        \n",
    "class Function:\n",
    "    def __call__(self, input):\n",
    "        \"\"\"\n",
    "        [args] input: Variable 클래스에 저장되어 있는 데이터\n",
    "        \"\"\"\n",
    "        x = input.data\n",
    "        y = self.forward(x)\n",
    "        output = Variable(y)\n",
    "        output.set_creator(self)  # y 변수를 만든 창조자(함수) 설정. self를 활용해서 선언된 함수의 종류로 설정가능!\n",
    "        self.input = input        # 역전파 시 사용하기 위해 캐싱\n",
    "        self.output = output      # 출력도 캐싱\n",
    "        return output\n",
    "    \n",
    "    def forward(self, x):\n",
    "        raise NotImplementedError(\"This method should be called in other function class\")\n",
    "        \n",
    "    def backward(self, gy):\n",
    "        raise NotImplementedError(\"This method should be called in other function class\")\n",
    "        \n",
    "\n",
    "class Square(Function):\n",
    "    def forward(self, x):\n",
    "        return x ** 2\n",
    "    \n",
    "    def backward(self, gy=1):\n",
    "        x = self.input.data\n",
    "        gx = 2 * x * gy\n",
    "        return gx\n",
    "    \n",
    "class Exp(Function):\n",
    "    def forward(self, x):\n",
    "        return np.exp(x)\n",
    "    \n",
    "    def backward(self, gy=1):\n",
    "        x = self.input.data\n",
    "        gx = np.exp(x) * gy\n",
    "        return gx\n",
    "    \n",
    "A = Square()\n",
    "B = Exp()\n",
    "C = Square()\n",
    "\n",
    "data = Variable(np.array(0.5))\n",
    "a = A(data)\n",
    "b = B(a)\n",
    "y = C(b)\n",
    "\n",
    "assert y.creator == C    # y를 만든 창조자 함수는 C\n",
    "assert y.creator.input == b # C 함수의 입력은 b\n",
    "assert y.creator.input.creator == B  # b를 만든 창조자 함수는 B\n",
    "assert y.creator.input.creator.input == a # B 함수의 입력은 a\n",
    "assert y.creator.input.creator.input.creator == A # a를 만든 창조자 함수는 A\n",
    "assert y.creator.input.creator.input.creator.input == data # A함수의 입력은 data\n",
    "assert y.creator.input.creator.input.creator.input.creator == None # data를 만든 함수는 없음!\n",
    "\n",
    "\n",
    "# 역전파를 하나씩 구현해보기\n",
    "y.grad = np.array(1.0)  # = y의 기울기 값\n",
    "C = y.creator  # 1.y를 만든 함수 C 가져오기\n",
    "b = C.input    # 2.함수 C의 입력인 b 가져오기 for b의 기울기 값\n",
    "b.grad = C.backward(y.grad)\n",
    "\n",
    "B = b.creator\n",
    "a = B.input\n",
    "a.grad = B.backward(b.grad)\n",
    "\n",
    "A = a.creator\n",
    "data = A.input\n",
    "data.grad = A.backward(a.grad)\n",
    "\n",
    "print('역전파 결과 미분값:', data.grad)"
   ]
  },
  {
   "cell_type": "code",
   "execution_count": 5,
   "id": "c217246a",
   "metadata": {},
   "outputs": [
    {
     "name": "stdout",
     "output_type": "stream",
     "text": [
      "3.297442541400256\n"
     ]
    }
   ],
   "source": [
    "# Variable 클래스에 backward 메소드를 추가해서 재귀적으로 호출하도록 만들기!\n",
    "import numpy as np\n",
    "\n",
    "class Variable:\n",
    "    def __init__(self, data):\n",
    "        self.data = data\n",
    "        self.grad = None\n",
    "        self.creator = None\n",
    "        \n",
    "    def set_creator(self, func):\n",
    "        self.creator = func\n",
    "        \n",
    "    def backward(self):\n",
    "        f = self.creator                    # 1.현재 변수를 만든 창조함수를 가져옴(순전파를 거치면 창조자 함수가 생김)\n",
    "        if f is not None:                   # 역전파 재귀함수 종단 조건 = 최초의 입력까지 다다랐다는 의미!\n",
    "            x = f.input                     # 2.가져온 창조함수의 입력(앞쪽의 변수)을 가져옴!\n",
    "            x.grad = f.backward(self.grad)  # 3.현재 변수의 grad를 입력(이것은 이전 역전파로 인해서 생김)\n",
    "            x.backward()                    # 4.재귀적으로 호출\n",
    "            \n",
    "\n",
    "class Function:\n",
    "    def __call__(self, input):\n",
    "        \"\"\"\n",
    "        [args] input: Variable 클래스에 저장되어 있는 데이터\n",
    "        \"\"\"\n",
    "        x = input.data\n",
    "        y = self.forward(x)\n",
    "        output = Variable(y)\n",
    "        output.set_creator(self)\n",
    "        self.ouput = output\n",
    "        self.input = input\n",
    "        return output\n",
    "\n",
    "    def forward(self, x):\n",
    "        raise NotImplementedError(\"This method should be called in other function class\")\n",
    "        \n",
    "    def backward(self, gy):\n",
    "        raise NotImplementedError(\"This method should be called in other function class\")\n",
    "        \n",
    "        \n",
    "class Square(Function):\n",
    "    def forward(self, x):\n",
    "        return x ** 2\n",
    "    \n",
    "    def backward(self, gy=1):\n",
    "        x = self.input.data\n",
    "        gx = 2 * x * gy\n",
    "        return gx\n",
    "    \n",
    "    \n",
    "class Exp(Function):\n",
    "    def forward(self, x):\n",
    "        return np.exp(x)\n",
    "    \n",
    "    def backward(self, gy=1):\n",
    "        x = self.input.data\n",
    "        gx = np.exp(x) * gy\n",
    "        return gx\n",
    "    \n",
    "    \n",
    "A = Square()\n",
    "B = Exp()\n",
    "C = Square()\n",
    "\n",
    "data = Variable(np.array(0.5))\n",
    "a = A(data)\n",
    "b = B(a)\n",
    "y = C(b)\n",
    "\n",
    "y.grad = np.array(1.0)\n",
    "y.backward()\n",
    "\n",
    "print(data.grad)"
   ]
  },
  {
   "cell_type": "code",
   "execution_count": 3,
   "id": "81e5989d",
   "metadata": {},
   "outputs": [],
   "source": [
    "# Step6\n",
    "\n",
    "import numpy as np\n",
    "\n",
    "\n",
    "class Variable:\n",
    "    def __init__(self, data):\n",
    "        self.data = data\n",
    "        self.grad = None\n",
    "        \n",
    "        \n",
    "class Function:\n",
    "    def __call__(self, input):\n",
    "        x = input.data\n",
    "        y = self.forward(x)\n",
    "        output = Variable(y)\n",
    "        self.input = input   # 순전파 시의 통상값을 저장 for 역전파 시 사용\n",
    "        return output\n",
    "    \n",
    "    def forward(self, x):\n",
    "        raise NotImplementedError(\"This method should be called in other function class\")\n",
    "        \n",
    "    def backward(self, gy):\n",
    "        raise NotImplementedError(\"This method should be called in other function class\")\n",
    "        \n",
    "        \n",
    "class Square(Function):\n",
    "    def forward(self, x):\n",
    "        return x ** 2\n",
    "    \n",
    "    def backward(self, gy):\n",
    "        x = self.input.data\n",
    "        gx = 2 * x * gy\n",
    "        return gx\n",
    "    \n",
    "\n",
    "class Exp(Function):\n",
    "    def forward(self, x):\n",
    "        return np.exp(x)\n",
    "    \n",
    "    def backward(self, gy):\n",
    "        x = self.input.data\n",
    "        gx = np.exp(x) * gy\n",
    "        return gx"
   ]
  },
  {
   "cell_type": "code",
   "execution_count": 4,
   "id": "2e8d7a1e",
   "metadata": {},
   "outputs": [
    {
     "name": "stdout",
     "output_type": "stream",
     "text": [
      "<class '__main__.Variable'> 1.648721270700128\n"
     ]
    }
   ],
   "source": [
    "A = Square()\n",
    "B = Exp()\n",
    "C = Square()\n",
    "\n",
    "x = Variable(np.array(0.5))\n",
    "a = A(x)\n",
    "b = B(a)\n",
    "y = C(b)\n",
    "\n",
    "print(type(y), y.data)"
   ]
  },
  {
   "cell_type": "code",
   "execution_count": 5,
   "id": "17984101",
   "metadata": {},
   "outputs": [
    {
     "name": "stdout",
     "output_type": "stream",
     "text": [
      "<class '__main__.Variable'> 3.297442541400256\n"
     ]
    }
   ],
   "source": [
    "y.grad = np.array(1.0)\n",
    "b.grad = C.backward(y.grad)\n",
    "a.grad = B.backward(b.grad)\n",
    "x.grad = A.backward(a.grad)\n",
    "print(type(x), x.grad)"
   ]
  },
  {
   "cell_type": "code",
   "execution_count": 11,
   "id": "ff267476",
   "metadata": {},
   "outputs": [],
   "source": [
    "import numpy as np\n",
    "\n",
    "\n",
    "class Variable:\n",
    "    def __init__(self, data):\n",
    "        self.data = data\n",
    "        self.grad = None\n",
    "        self.creator = None\n",
    "        \n",
    "    def set_creator(self, func):\n",
    "        self.creator = func\n",
    "        \n",
    "        \n",
    "class Function:\n",
    "    def __call__(self, input):\n",
    "        x = input.data\n",
    "        y = self.forward(x)\n",
    "        output = Variable(y)\n",
    "        output.set_creator(self)\n",
    "        self.input = input\n",
    "        self.output = output\n",
    "        \n",
    "        return output\n",
    "    \n",
    "    def forward(self, x):\n",
    "        raise NotImplementedError(\"This method should be called in other function class\")\n",
    "        \n",
    "    def backward(self, gy):\n",
    "        raise NotImplementedError(\"This method should be called in other function class\")\n",
    "        \n",
    "        \n",
    "class Square(Function):\n",
    "    def forward(self, x):\n",
    "        return x ** 2\n",
    "    \n",
    "    def backward(self, gy):\n",
    "        x = self.input.data\n",
    "        gx = 2 * x * gy\n",
    "        return gx\n",
    "    \n",
    "\n",
    "class Exp(Function):\n",
    "    def forward(self, x):\n",
    "        return np.exp(x)\n",
    "    \n",
    "    def backward(self, gy):\n",
    "        x = self.input.data\n",
    "        gx = np.exp(x) * gy\n",
    "        return gx"
   ]
  },
  {
   "cell_type": "code",
   "execution_count": 14,
   "id": "0307e26d",
   "metadata": {},
   "outputs": [],
   "source": [
    "A = Square()\n",
    "B = Exp()\n",
    "C = Square()\n",
    "\n",
    "# 순전파 수행\n",
    "x = Variable(np.array(10))\n",
    "a = A(x)\n",
    "b = B(a)\n",
    "y = C(b)\n",
    "\n",
    "# 순전파로 연결된 변수와 함수 간의 관계를 통해 거슬러 올라가기\n",
    "assert y.creator == C\n",
    "assert y.creator.input == b\n",
    "assert y.creator.input.creator == B\n",
    "assert y.creator.input.creator.input == a\n",
    "assert y.creator.input.creator.input.creator == A\n",
    "assert y.creator.input.creator.input.creator.input == x\n"
   ]
  },
  {
   "cell_type": "code",
   "execution_count": 17,
   "id": "9bd8e522",
   "metadata": {},
   "outputs": [
    {
     "name": "stdout",
     "output_type": "stream",
     "text": [
      "1.0 2.568050833375483 3.297442541400256 3.297442541400256\n"
     ]
    }
   ],
   "source": [
    "A = Square()\n",
    "B = Exp()\n",
    "C = Square()\n",
    "\n",
    "# 순전파 수행\n",
    "x = Variable(np.array(0.5))\n",
    "a = A(x)\n",
    "b = B(a)\n",
    "y = C(b)\n",
    "\n",
    "# 역전파 수행\n",
    "y.grad = np.array(1.0)\n",
    "\n",
    "C = y.creator                # 1.출력변수의 창조자 함수 가져오기\n",
    "b = C.input                  # 2.가져온 함수의 입력변수 가져오기\n",
    "b.grad = C.backward(y.grad)  # 3.가져온 함수의 역전파 메소드 호출\n",
    "\n",
    "B = b.creator\n",
    "a = B.input\n",
    "a.grad = B.backward(b.grad)\n",
    "\n",
    "A = a.creator\n",
    "x = A.input\n",
    "x.grad = A.backward(a.grad)\n",
    "\n",
    "print(y.grad, b.grad, a.grad, x.grad)"
   ]
  },
  {
   "cell_type": "code",
   "execution_count": 19,
   "id": "6bab93fd",
   "metadata": {},
   "outputs": [],
   "source": [
    "class Variable:\n",
    "    def __init__(self, data):\n",
    "        self.data = data\n",
    "        self.grad = None\n",
    "        self.creator = None\n",
    "        \n",
    "    def set_creator(self, func):\n",
    "        self.creator = func\n",
    "        \n",
    "    def backward(self):\n",
    "        f = self.creator                   # 1.출력 변수의 창조자 함수 가져오기\n",
    "        if f is not None:                  # 2.가져온 함수의 입력변수 가져오기\n",
    "            x = f.input                      \n",
    "            x.grad = f.backward(self.grad) # 3.가져온 함수의 역전파 호출\n",
    "            x.backward()                   # 4.재귀적으로 수행! for 자동화"
   ]
  },
  {
   "cell_type": "code",
   "execution_count": 21,
   "id": "897e7504",
   "metadata": {},
   "outputs": [
    {
     "name": "stdout",
     "output_type": "stream",
     "text": [
      "3.297442541400256\n"
     ]
    }
   ],
   "source": [
    "A = Square()\n",
    "B = Exp()\n",
    "C = Square()\n",
    "\n",
    "# 순전파 수행\n",
    "x = Variable(np.array(0.5))\n",
    "a = A(x)\n",
    "b = B(a)\n",
    "y = C(b)\n",
    "\n",
    "# 역전파 수행\n",
    "y.grad = np.array(1.0)\n",
    "y.backward()\n",
    "\n",
    "# 역전파 후 최종 미분값 출력\n",
    "print(x.grad)"
   ]
  },
  {
   "cell_type": "markdown",
   "id": "55363c4a",
   "metadata": {},
   "source": [
    "---\n",
    "- 중간 정리"
   ]
  },
  {
   "cell_type": "code",
   "execution_count": 26,
   "id": "17706a03",
   "metadata": {},
   "outputs": [],
   "source": [
    "import numpy as np\n",
    "\n",
    "\n",
    "# 변수 클래스\n",
    "class Variable:\n",
    "    def __init__(self, data):\n",
    "        self.data = data\n",
    "        self.grad = None\n",
    "        self.creator = None\n",
    "        \n",
    "    def set_creator(self, func):\n",
    "        self.creator = func\n",
    "        \n",
    "    def backward(self):\n",
    "        f = self.creator\n",
    "        if f is not None:\n",
    "            x = f.input\n",
    "            x.grad = f.backward(self.grad)\n",
    "            x.backward()\n",
    "    \n",
    "    \n",
    "# 함수 공통 클래스      \n",
    "class Function:\n",
    "    def __call__(self, input):\n",
    "        x = input.data\n",
    "        y = self.forward(x)\n",
    "        output = Variable(y)\n",
    "        output.set_creator(self)\n",
    "        self.input = input\n",
    "        self.output = output\n",
    "        return output\n",
    "    \n",
    "    def forward(self, x):\n",
    "        raise NotImplementedError(\"This method should be called in other function class\")\n",
    "        \n",
    "    def backward(self, gy):\n",
    "        raise NotImplementedError(\"This method should be called in other function class\")\n",
    "\n",
    "\n",
    "class Square(Function):\n",
    "    def forward(self, x):\n",
    "        return x ** 2\n",
    "    \n",
    "    def backward(self, gy):\n",
    "        x = self.input.data\n",
    "        gx = 2 * x * gy\n",
    "        return gx\n",
    "    \n",
    "\n",
    "class Exp(Function):\n",
    "    def forward(self, x):\n",
    "        return np.exp(x)\n",
    "    \n",
    "    def backward(self, gy):\n",
    "        x = self.input.data\n",
    "        gx = np.exp(x) * gy\n",
    "        return gx"
   ]
  },
  {
   "cell_type": "code",
   "execution_count": 27,
   "id": "c1a36a2d",
   "metadata": {},
   "outputs": [
    {
     "name": "stdout",
     "output_type": "stream",
     "text": [
      "1.0 2.568050833375483 3.297442541400256 3.297442541400256\n"
     ]
    }
   ],
   "source": [
    "A = Square()\n",
    "B = Exp()\n",
    "C = Square()\n",
    "\n",
    "# forward\n",
    "x = Variable(np.array(0.5))\n",
    "a = A(x)\n",
    "b = B(a)\n",
    "y = C(b)\n",
    "\n",
    "# backward\n",
    "y.grad = np.array(1.0)\n",
    "y.backward()\n",
    "\n",
    "print(y.grad, b.grad, a.grad, x.grad)"
   ]
  },
  {
   "cell_type": "markdown",
   "id": "c3f68090",
   "metadata": {},
   "source": [
    "## Step08"
   ]
  },
  {
   "cell_type": "code",
   "execution_count": 28,
   "id": "ba4489f2",
   "metadata": {},
   "outputs": [],
   "source": [
    "# 재귀에서 반복문으로 변경\n",
    "class Variable:\n",
    "    def __init__(self, data):\n",
    "        self.data = data\n",
    "        self.grad = None\n",
    "        self.creator = None\n",
    "        \n",
    "    def set_creator(self, func):\n",
    "        self.creator = func\n",
    "        \n",
    "    def backward(self):\n",
    "        funcs = [self.creator]\n",
    "        while funcs:\n",
    "            f = funcs.pop()\n",
    "            x, y = f.input, f.output\n",
    "            x.grad = f.backward(y.grad)\n",
    "            \n",
    "            if x.creator is not None:\n",
    "                funcs.append(x.creator)"
   ]
  },
  {
   "cell_type": "code",
   "execution_count": 30,
   "id": "65d0ce1e",
   "metadata": {},
   "outputs": [
    {
     "name": "stdout",
     "output_type": "stream",
     "text": [
      "float64 float64\n"
     ]
    }
   ],
   "source": [
    "a = np.array(1.0)\n",
    "b = np.ones_like(a)\n",
    "print(a.dtype, b.dtype)"
   ]
  },
  {
   "cell_type": "code",
   "execution_count": 44,
   "id": "3c95d53b",
   "metadata": {},
   "outputs": [
    {
     "name": "stdout",
     "output_type": "stream",
     "text": [
      "10.0 <class 'numpy.ndarray'>\n",
      "100.0 <class 'numpy.float64'>\n"
     ]
    }
   ],
   "source": [
    "a = np.array(10.0)\n",
    "b = a ** 2\n",
    "print(a, type(a))\n",
    "print(b, type(b))"
   ]
  },
  {
   "cell_type": "code",
   "execution_count": null,
   "id": "069337b6",
   "metadata": {},
   "outputs": [],
   "source": [
    "# 1.Functional API가 아닌 Python API로 변경하도록 하기\n",
    "def square(x):\n",
    "    return Square()(x)\n",
    "\n",
    "def exp(x):\n",
    "    return Exp()(x)\n",
    "\n",
    "\n",
    "x = Variable(np.array(0.5))\n",
    "a = square(x)\n",
    "print(a.data)"
   ]
  },
  {
   "cell_type": "code",
   "execution_count": 36,
   "id": "2b5e30c7",
   "metadata": {},
   "outputs": [],
   "source": [
    "# 2.backward 메서드 간소화 -> 역전파 시, 출력의 gradient 값 초기화하는 부분 생략하기 위함\n",
    "class Variable:\n",
    "    def __init__(self, data):\n",
    "        self.data = data\n",
    "        self.grad = None\n",
    "        self.creator = None\n",
    "        \n",
    "    def set_creator(self, func):\n",
    "        self.creator = func\n",
    "        \n",
    "    def backward(self):\n",
    "        if self.grad is None:\n",
    "            self.grad = np.ones_like(self.data)\n",
    "            \n",
    "        funcs = [self.creator]\n",
    "        while funcs:\n",
    "            f = funcs.pop()\n",
    "            x, y = f.input, f.output\n",
    "            x.grad = f.backward(y.grad)\n",
    "            \n",
    "            if x.creator is not None:\n",
    "                funcs.append(x.creator)"
   ]
  },
  {
   "cell_type": "code",
   "execution_count": 39,
   "id": "54bb753b",
   "metadata": {},
   "outputs": [],
   "source": [
    "# 3-1. nd-array 입력 유효성 검증\n",
    "class Variable:\n",
    "    def __init__(self, data):\n",
    "        if data is not None:\n",
    "            if not isinstance(data, np.ndarray):\n",
    "                raise TypeError(f\"{type(data)} 타입은 지원하지 않습니다.\")\n",
    "                \n",
    "        self.data = data\n",
    "        self.grad = None\n",
    "        self.creator = None\n",
    "        \n",
    "    def set_creator(self, func):\n",
    "        self.creator = func\n",
    "        \n",
    "    def backward(self):\n",
    "        if self.grad is None:\n",
    "            self.grad = np.ones_like(self.data)\n",
    "        \n",
    "        funcs = [self.creator]\n",
    "        while funcs:\n",
    "            f = funcs.pop()\n",
    "            x, y = f.input, f.output\n",
    "            x.grad = f.backward(y.grad)\n",
    "            \n",
    "            if x.creator is not None:\n",
    "                funcs.append(x.creator)"
   ]
  },
  {
   "cell_type": "code",
   "execution_count": 45,
   "id": "edd146d7",
   "metadata": {},
   "outputs": [],
   "source": [
    "# 3-2. 0차원의 nd-array일 경우, 연산을 수행하면 np 스칼라값으로 변형됨. 이를 막기 위함\n",
    "class Variable:\n",
    "    def __init__(self, data):\n",
    "        if data is not None:\n",
    "            if not isinstance(data, np.ndarray):\n",
    "                raise TypeError(f\"{type(data)} 타입은 지원하지 않습니다.\")\n",
    "        \n",
    "        self.data = data\n",
    "        self.grad = None\n",
    "        self.creator = None\n",
    "        \n",
    "    def set_creator(self, func):\n",
    "        self.creator = func\n",
    "        \n",
    "    def backward(self):\n",
    "        if self.grad is None:\n",
    "            self.grad = np.ones_like(self.data)\n",
    "            \n",
    "        funcs = [self.creator]\n",
    "        while funcs:\n",
    "            f = funcs.pop()\n",
    "            x, y = f.input, f.output\n",
    "            x.grad = f.backward(y.grad)\n",
    "            \n",
    "            if x.creator is not None:\n",
    "                funcs.append(x.creator)\n",
    "                \n",
    "def as_array(x):\n",
    "    if np.isscalar(x):\n",
    "        return np.array(x)\n",
    "    return x\n",
    "\n",
    "\n",
    "class Function:\n",
    "    def __call__(self, input):\n",
    "        x = input.data\n",
    "        y = self.forward(x)\n",
    "        output = Variable(as_array(y))\n",
    "        output.set_creator(self)\n",
    "        self.input = input\n",
    "        self.output = output\n",
    "        return output\n",
    "    \n",
    "    def forward(self, x):\n",
    "        raise NotImplementedError(\"This method should be called in other function class\")\n",
    "        \n",
    "    def backward(self, gy):\n",
    "        raise NotImplementedError(\"This method should be called in other function class\")\n",
    "        \n",
    "class Square(Function):\n",
    "    def forward(self, x):\n",
    "        return x ** 2\n",
    "    \n",
    "    def backward(self, gy):\n",
    "        x = self.input.data\n",
    "        gx = 2 * x * gy\n",
    "        return gx\n",
    "    \n",
    "\n",
    "class Exp(Function):\n",
    "    def forward(self, x):\n",
    "        return np.exp(x)\n",
    "    \n",
    "    def backward(self, gy):\n",
    "        x = self.input.data\n",
    "        gx = np.exp(x) * gy\n",
    "        return gx\n",
    "    \n",
    "def square(x):\n",
    "    return Square()(x)\n",
    "\n",
    "def exp(x):\n",
    "    return Exp()(x)"
   ]
  },
  {
   "cell_type": "code",
   "execution_count": 46,
   "id": "84196759",
   "metadata": {},
   "outputs": [],
   "source": [
    "import unittest\n",
    "\n",
    "class SquareTest(unittest.TestCase):\n",
    "    def test_forward(self):\n",
    "        x = Variable(np.array(3.0))\n",
    "        y = square(x)\n",
    "        \n",
    "        expected = np.array(4.0)\n",
    "        self.assertEqual(y.data, expected)"
   ]
  },
  {
   "cell_type": "code",
   "execution_count": 47,
   "id": "4189b485",
   "metadata": {},
   "outputs": [],
   "source": [
    "def numerical_diff(f, x, eps=1e-4):\n",
    "    x0 = Variable(x.data - eps)\n",
    "    x1 = Variable(x.data + eps)\n",
    "    y0 = f(x0)\n",
    "    y1 = f(x1)\n",
    "    \n",
    "    return (y1.data - y0.data) / (2*eps)\n",
    "\n",
    "class SquareTest(unittest.TestCase):\n",
    "    def test_gradient_check(self):\n",
    "        x = Variable(np.random.rand(1))\n",
    "        y = square(x)\n",
    "        y.backward()\n",
    "        num_grad = numerical_diff(square, x)\n",
    "        flg = np.allclose(x.grad, num_grad)\n",
    "        self.assertTrue(flg)"
   ]
  },
  {
   "cell_type": "code",
   "execution_count": null,
   "id": "7e66eca7",
   "metadata": {},
   "outputs": [],
   "source": []
  }
 ],
 "metadata": {
  "hide_input": false,
  "kernelspec": {
   "display_name": "Python 3 (ipykernel)",
   "language": "python",
   "name": "python3"
  },
  "language_info": {
   "codemirror_mode": {
    "name": "ipython",
    "version": 3
   },
   "file_extension": ".py",
   "mimetype": "text/x-python",
   "name": "python",
   "nbconvert_exporter": "python",
   "pygments_lexer": "ipython3",
   "version": "3.7.7"
  },
  "toc": {
   "base_numbering": 1,
   "nav_menu": {},
   "number_sections": true,
   "sideBar": true,
   "skip_h1_title": false,
   "title_cell": "Table of Contents",
   "title_sidebar": "Contents",
   "toc_cell": true,
   "toc_position": {},
   "toc_section_display": true,
   "toc_window_display": false
  },
  "varInspector": {
   "cols": {
    "lenName": 16,
    "lenType": 16,
    "lenVar": 40
   },
   "kernels_config": {
    "python": {
     "delete_cmd_postfix": "",
     "delete_cmd_prefix": "del ",
     "library": "var_list.py",
     "varRefreshCmd": "print(var_dic_list())"
    },
    "r": {
     "delete_cmd_postfix": ") ",
     "delete_cmd_prefix": "rm(",
     "library": "var_list.r",
     "varRefreshCmd": "cat(var_dic_list()) "
    }
   },
   "types_to_exclude": [
    "module",
    "function",
    "builtin_function_or_method",
    "instance",
    "_Feature"
   ],
   "window_display": false
  }
 },
 "nbformat": 4,
 "nbformat_minor": 5
}
