{
 "cells": [
  {
   "cell_type": "markdown",
   "id": "10dbee71",
   "metadata": {
    "toc": true
   },
   "source": [
    "<h1>Table of Contents<span class=\"tocSkip\"></span></h1>\n",
    "<div class=\"toc\"><ul class=\"toc-item\"><li><span><a href=\"#step01\" data-toc-modified-id=\"step01-1\"><span class=\"toc-item-num\">1&nbsp;&nbsp;</span>step01</a></span></li><li><span><a href=\"#stepo02\" data-toc-modified-id=\"stepo02-2\"><span class=\"toc-item-num\">2&nbsp;&nbsp;</span>stepo02</a></span></li><li><span><a href=\"#step03\" data-toc-modified-id=\"step03-3\"><span class=\"toc-item-num\">3&nbsp;&nbsp;</span>step03</a></span></li><li><span><a href=\"#step04\" data-toc-modified-id=\"step04-4\"><span class=\"toc-item-num\">4&nbsp;&nbsp;</span>step04</a></span></li></ul></div>"
   ]
  },
  {
   "cell_type": "markdown",
   "id": "a04f1f64",
   "metadata": {},
   "source": [
    "## step01\n",
    "- 변수 클래스"
   ]
  },
  {
   "cell_type": "code",
   "execution_count": 1,
   "id": "3e9ab547",
   "metadata": {},
   "outputs": [],
   "source": [
    "class Variable:\n",
    "    def __init__(self, data):\n",
    "        self.data = data"
   ]
  },
  {
   "cell_type": "code",
   "execution_count": 2,
   "id": "17dded14",
   "metadata": {},
   "outputs": [
    {
     "name": "stdout",
     "output_type": "stream",
     "text": [
      "1.0\n"
     ]
    }
   ],
   "source": [
    "import numpy as np\n",
    "\n",
    "data = np.array(1.0)\n",
    "\n",
    "x = Variable(data)\n",
    "print(x.data)"
   ]
  },
  {
   "cell_type": "code",
   "execution_count": 3,
   "id": "9bd866d3",
   "metadata": {},
   "outputs": [
    {
     "name": "stdout",
     "output_type": "stream",
     "text": [
      "3.0\n"
     ]
    }
   ],
   "source": [
    "# x라는 상자에 다른 데이터 넣어보기\n",
    "x.data = np.array(3.0)\n",
    "print(x.data)"
   ]
  },
  {
   "cell_type": "markdown",
   "id": "ff1c8659",
   "metadata": {},
   "source": [
    "## stepo02\n",
    "- 함수 클래스"
   ]
  },
  {
   "cell_type": "code",
   "execution_count": 4,
   "id": "c51f895b",
   "metadata": {},
   "outputs": [],
   "source": [
    "class Function:\n",
    "    def __call__(self, input):\n",
    "        \"\"\" \n",
    "        [args] input: Variable 클래스에 저장되어 있는 데이엍\n",
    "        \"\"\"\n",
    "        x = input.data\n",
    "        y = x ** 2\n",
    "        output = Variable(y)\n",
    "        return output"
   ]
  },
  {
   "cell_type": "code",
   "execution_count": 5,
   "id": "46ddaae7",
   "metadata": {},
   "outputs": [
    {
     "name": "stdout",
     "output_type": "stream",
     "text": [
      "<class '__main__.Variable'>\n",
      "144.0\n"
     ]
    }
   ],
   "source": [
    "data = np.array(12.0)\n",
    "x = Variable(data)\n",
    "f = Function()\n",
    "y = f(x)\n",
    "\n",
    "print(type(y))\n",
    "print(y.data)"
   ]
  },
  {
   "cell_type": "code",
   "execution_count": 9,
   "id": "fa52209c",
   "metadata": {},
   "outputs": [],
   "source": [
    "class Variable:\n",
    "    def __init__(self, data):\n",
    "        self.data = data\n",
    "        \n",
    "\n",
    "# 하지만 Function 클래스는 공통 함수들의 기반 클래스(부모 클래스)로 만들고 이를 상속받도록 하자!\n",
    "class Function:\n",
    "    def __call__(self, input):\n",
    "        \"\"\" \n",
    "        [args] input: Variable 클래스에 저장되어 있는 데이엍\n",
    "        \"\"\"\n",
    "        x = input.data\n",
    "        y = self.forward(x)\n",
    "        output = Variable(y)\n",
    "        return output\n",
    "    \n",
    "    def forward(self, x):\n",
    "        raise NotImplementedError(\"This method should be called in other function class\")\n",
    "        \n",
    "\n",
    "class Square(Function):\n",
    "    def forward(self, x):\n",
    "        return x ** 2"
   ]
  },
  {
   "cell_type": "code",
   "execution_count": 8,
   "id": "5e5a63f3",
   "metadata": {},
   "outputs": [],
   "source": [
    "# # error 발생하는 case\n",
    "# data = np.array(12.0)\n",
    "# x = Variable(data)\n",
    "# f = Function()\n",
    "# y = f(x)"
   ]
  },
  {
   "cell_type": "code",
   "execution_count": 11,
   "id": "f2664815",
   "metadata": {},
   "outputs": [
    {
     "name": "stdout",
     "output_type": "stream",
     "text": [
      "<class '__main__.Variable'>\n",
      "144.0\n"
     ]
    }
   ],
   "source": [
    "data = np.array(12.0)\n",
    "x = Variable(data)\n",
    "f = Square()\n",
    "y = f(x)\n",
    "print(type(y))\n",
    "print(y.data)"
   ]
  },
  {
   "cell_type": "markdown",
   "id": "829e3bb5",
   "metadata": {},
   "source": [
    "## step03"
   ]
  },
  {
   "cell_type": "code",
   "execution_count": 12,
   "id": "18d992ef",
   "metadata": {},
   "outputs": [],
   "source": [
    "import numpy as np\n",
    "\n",
    "# 변수 클래스\n",
    "class Variable:\n",
    "    def __init__(self, data):\n",
    "        self.data = data\n",
    "\n",
    "        \n",
    "# 함수 Base 클래스\n",
    "class Function:\n",
    "    def __call__(self, input):\n",
    "        x = input.data\n",
    "        y = self.forward(x)\n",
    "        output = Variable(y)\n",
    "        return output\n",
    "    \n",
    "    \n",
    "# Square 함수\n",
    "class Square(Function):\n",
    "    def forward(self, x):\n",
    "        return x ** 2\n",
    "    \n",
    "\n",
    "# Exp 함수\n",
    "class Exp(Function):\n",
    "    def forward(self, x):\n",
    "        return np.exp(x)    "
   ]
  },
  {
   "cell_type": "code",
   "execution_count": 15,
   "id": "5c2cbb4d",
   "metadata": {},
   "outputs": [
    {
     "name": "stdout",
     "output_type": "stream",
     "text": [
      "<class '__main__.Variable'>\n",
      "1.648721270700128\n"
     ]
    }
   ],
   "source": [
    "# 함수 연결 즉, 여러함수를 연결한 큰 합성함수 만들기 -> 가능한 이유: 각 함수를 적용해 나오는 결과값이 인스턴스 변수에 저장되기 때문!\n",
    "\n",
    "func1 = Square()\n",
    "func2 = Exp()\n",
    "\n",
    "data = np.array(0.5)\n",
    "x = Variable(data)\n",
    "a = func1(x)\n",
    "b = func2(a)\n",
    "c = func1(b)\n",
    "\n",
    "print(type(c))\n",
    "print(c.data)"
   ]
  },
  {
   "cell_type": "markdown",
   "id": "df006567",
   "metadata": {},
   "source": [
    "## step04"
   ]
  },
  {
   "cell_type": "code",
   "execution_count": 18,
   "id": "354a467c",
   "metadata": {},
   "outputs": [],
   "source": [
    "# 수치 미분하는 함수\n",
    "def numerical_diff(f, x, eps=1e-4):\n",
    "    \"\"\"\n",
    "    [args] f: 미분할 함수\n",
    "    [args] x: 어떤 변수를 사용해서 미분을 할지 -> 이것도 Variable 클래스\n",
    "    [args] eps: 수치미분 공식에 사용되는 h값\n",
    "    \"\"\"\n",
    "    # x-h, x+h\n",
    "    x0 = Variable(x.data - eps)\n",
    "    x1 = Variable(x.data + eps)\n",
    "    # f(x-h), f(x+h)\n",
    "    y0 = f(x0)\n",
    "    y1 = f(x1)\n",
    "    \n",
    "    return (y1.data - y0.data) / (2*eps)"
   ]
  },
  {
   "cell_type": "code",
   "execution_count": 19,
   "id": "98a0c7bc",
   "metadata": {},
   "outputs": [
    {
     "name": "stdout",
     "output_type": "stream",
     "text": [
      "4.000000000004\n"
     ]
    }
   ],
   "source": [
    "f = Square()\n",
    "x = Variable(np.array(2.0))\n",
    "d = numerical_diff(f, x)\n",
    "print(d)"
   ]
  },
  {
   "cell_type": "code",
   "execution_count": 20,
   "id": "4a729570",
   "metadata": {},
   "outputs": [],
   "source": [
    "# 이번에는 합성함수를 사용해서 수치미분\n",
    "def composite_f(x):\n",
    "    func1 = Square()\n",
    "    func2 = Exp()\n",
    "    \n",
    "    return func1(func2(func1(x)))"
   ]
  },
  {
   "cell_type": "code",
   "execution_count": 21,
   "id": "0a099511",
   "metadata": {},
   "outputs": [
    {
     "name": "stdout",
     "output_type": "stream",
     "text": [
      "3.2974426293330694\n"
     ]
    }
   ],
   "source": [
    "x = Variable(np.array(0.5))\n",
    "dy = numerical_diff(composite_f, x)\n",
    "print(dy)"
   ]
  },
  {
   "cell_type": "code",
   "execution_count": null,
   "id": "afb87cfb",
   "metadata": {},
   "outputs": [],
   "source": []
  }
 ],
 "metadata": {
  "hide_input": false,
  "kernelspec": {
   "display_name": "Python 3 (ipykernel)",
   "language": "python",
   "name": "python3"
  },
  "language_info": {
   "codemirror_mode": {
    "name": "ipython",
    "version": 3
   },
   "file_extension": ".py",
   "mimetype": "text/x-python",
   "name": "python",
   "nbconvert_exporter": "python",
   "pygments_lexer": "ipython3",
   "version": "3.7.7"
  },
  "toc": {
   "base_numbering": 1,
   "nav_menu": {},
   "number_sections": true,
   "sideBar": true,
   "skip_h1_title": false,
   "title_cell": "Table of Contents",
   "title_sidebar": "Contents",
   "toc_cell": true,
   "toc_position": {},
   "toc_section_display": true,
   "toc_window_display": false
  },
  "varInspector": {
   "cols": {
    "lenName": 16,
    "lenType": 16,
    "lenVar": 40
   },
   "kernels_config": {
    "python": {
     "delete_cmd_postfix": "",
     "delete_cmd_prefix": "del ",
     "library": "var_list.py",
     "varRefreshCmd": "print(var_dic_list())"
    },
    "r": {
     "delete_cmd_postfix": ") ",
     "delete_cmd_prefix": "rm(",
     "library": "var_list.r",
     "varRefreshCmd": "cat(var_dic_list()) "
    }
   },
   "types_to_exclude": [
    "module",
    "function",
    "builtin_function_or_method",
    "instance",
    "_Feature"
   ],
   "window_display": false
  }
 },
 "nbformat": 4,
 "nbformat_minor": 5
}
