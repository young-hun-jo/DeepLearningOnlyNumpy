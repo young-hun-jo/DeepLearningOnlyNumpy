{
 "cells": [
  {
   "cell_type": "markdown",
   "id": "e9862746",
   "metadata": {
    "toc": true
   },
   "source": [
    "<h1>Table of Contents<span class=\"tocSkip\"></span></h1>\n",
    "<div class=\"toc\"><ul class=\"toc-item\"></ul></div>"
   ]
  },
  {
   "cell_type": "code",
   "execution_count": 214,
   "id": "90b09725",
   "metadata": {},
   "outputs": [],
   "source": [
    "import numpy as np\n",
    "from dataset import sequence\n",
    "\n",
    "(x_train, t_train), (x_test, t_test) = sequence.load_data('date.txt')\n",
    "char_to_id, id_to_char = sequence.get_vocab()"
   ]
  },
  {
   "cell_type": "code",
   "execution_count": 215,
   "id": "93f2f2f4",
   "metadata": {},
   "outputs": [],
   "source": [
    "vocab_size = len(char_to_id)\n",
    "wordvec_size = 512   # Embedding Layer 차원 수"
   ]
  },
  {
   "cell_type": "code",
   "execution_count": 216,
   "id": "66058c3b",
   "metadata": {},
   "outputs": [
    {
     "data": {
      "text/plain": [
       "(10, 29)"
      ]
     },
     "execution_count": 216,
     "metadata": {},
     "output_type": "execute_result"
    }
   ],
   "source": [
    "x_sample = x_train[:10]\n",
    "x_sample.shape"
   ]
  },
  {
   "cell_type": "code",
   "execution_count": 217,
   "id": "971d6362",
   "metadata": {},
   "outputs": [
    {
     "name": "stdout",
     "output_type": "stream",
     "text": [
      "embed_out: (10, 29, 512)\n",
      "key_out: (10, 29, 64)\n"
     ]
    }
   ],
   "source": [
    "from common.time_layers import TimeEmbedding\n",
    "from common.time_layers import TimeAffine\n",
    "\n",
    "V = len(char_to_id)\n",
    "D = 512\n",
    "d = 64\n",
    "\n",
    "W_embed = np.random.rand(V, D)   # Embedding Layer 파라미터 \n",
    "W_key = np.random.rand(D, d)     # key의 Weight\n",
    "b_key = np.zeros_like(d)         # key의 bias\n",
    "\n",
    "\n",
    "\n",
    "embed_layer = TimeEmbedding(W_embed)\n",
    "key_layer = TimeAffine(W_key, b_key)\n",
    "\n",
    "embed_out = embed_layer.forward(x_sample)\n",
    "print('embed_out:', embed_out.shape)\n",
    "key_out = key_layer.forward(embed_out)\n",
    "print('key_out:', key_out.shape)"
   ]
  },
  {
   "cell_type": "code",
   "execution_count": 218,
   "id": "328bae72",
   "metadata": {},
   "outputs": [],
   "source": [
    "# Time Key Layer = embedding layer + key layer\n",
    "from common.time_layers import TimeEmbedding\n",
    "from common.time_layers import TimeAffine\n",
    "\n",
    "\n",
    "class TimeKeyLayer:\n",
    "    def __init__(self, V, D, d):\n",
    "        \"\"\"\n",
    "        Args:\n",
    "            V: Vocabulary size\n",
    "            D: Embedding layer(word2vec) 차원 수\n",
    "            d: Key 차원 수\n",
    "        \"\"\"\n",
    "        # 파라미터 정의\n",
    "        nr = np.random.rand\n",
    "        W_embed = nr(V, D)\n",
    "        W_key = nr(D, d)\n",
    "        b_key = np.zeros_like(d)\n",
    "        \n",
    "        # 계층 정의\n",
    "        embed_layer = TimeEmbedding(W_embed)\n",
    "        key_layer = TimeAffine(W_key, b_key)\n",
    "        self.layers = [embed_layer, key_layer]\n",
    "        # 파라미터 취합\n",
    "        self.params, self.grads = [], []\n",
    "        for layer in self.layers:\n",
    "            self.params += layer.params\n",
    "            self.grads += layer.grads\n",
    "            \n",
    "        \n",
    "    def forward(self, xs):\n",
    "        for layer in self.layers:\n",
    "            xs = layer.forward(xs)\n",
    "        return xs\n",
    "    \n",
    "    \n",
    "    def backward(self, dout):\n",
    "        for layer in reversed(self.layers):\n",
    "            dout = layer.backward(dout)\n",
    "        return dout"
   ]
  },
  {
   "cell_type": "code",
   "execution_count": 219,
   "id": "6c804d80",
   "metadata": {},
   "outputs": [],
   "source": [
    "# Time Query layer\n",
    "from common.time_layers import TimeAffine\n",
    "\n",
    "class TimeQueryLayer:\n",
    "    def __init__(self, V, d):\n",
    "        \"\"\"\n",
    "        Args:\n",
    "            V: Vocabulary size\n",
    "            D: Embedding layer(word2vec) 차원 수\n",
    "            d: Query 차원 수\n",
    "        \"\"\"\n",
    "        self.V = V\n",
    "        # 파라미터 정의\n",
    "        nr = np.random.rand\n",
    "        W_query = nr(V, d)\n",
    "        b_query = np.zeros_like(d)\n",
    "        # 계층 정의\n",
    "        self.layers = TimeAffine(W_query, b_query)\n",
    "        # 파라미터 취합\n",
    "        self.params, self.grads = self.layers.params, self.layers.grads\n",
    "        \n",
    "    def forward(self, xs):\n",
    "        # 레이블인코딩 -> 원핫인코딩\n",
    "        if xs.ndim == 2:\n",
    "            xs = np.eye(self.V)[xs]   \n",
    "        xs = self.layers.forward(xs)\n",
    "        return xs\n",
    "    \n",
    "    def backward(self, dout):\n",
    "        dout = self.layers.backward(dout)\n",
    "        return dout"
   ]
  },
  {
   "cell_type": "code",
   "execution_count": 221,
   "id": "78a2fa3f",
   "metadata": {},
   "outputs": [],
   "source": [
    "# Key, Query를 입력으로 받는 Compatibility Function 수행\n",
    "from common.functions import softmax\n",
    "\n",
    "class CompatibilityFunction:\n",
    "    def __init__(self, V, D, d):\n",
    "        \"\"\"\n",
    "        Args:\n",
    "            V: Vocabulary size\n",
    "            D: Embedding layer(word2vec) 차원 수\n",
    "            d: Query 차원 수\n",
    "        \"\"\"\n",
    "        # Embedding Layer + Key Layer\n",
    "        self.time_key_layer = TimeKeyLayer(V, D, d)\n",
    "        # Query Layer\n",
    "        self.time_query_layer = TimeQueryLayer(V, d)\n",
    "        # 파라미터 취합\n",
    "        self.key_params, self.query_params = [], []\n",
    "        self.key_grads, self.query_grads = [], []\n",
    "        \n",
    "        self.key_params += self.time_key_layer.params\n",
    "        self.key_grads += self.time_key_layer.grads\n",
    "        \n",
    "        self.query_params += self.time_query_layer.params\n",
    "        self.query_grads += self.time_query_layer.grads\n",
    "        \n",
    "    \n",
    "    def forward(self, xs):\n",
    "        out_query = self.time_query_layer.forward(xs)\n",
    "        out_query_T = np.transpose(out_query, (0, 2, 1))\n",
    "        out_key = self.time_key_layer.forward(xs)\n",
    "        out_key_T = np.transpose(out_key, (0, 2, 1))\n",
    "        \n",
    "        out = np.matmul(out_query, out_key_T) / np.sqrt(d)\n",
    "        score = softmax(out)\n",
    "        \n",
    "        self.out_key, self.out_query_T = out_key, out_query_T\n",
    "        self.out, self.score = out, score\n",
    "        return score\n",
    "        \n",
    "        \n",
    "    def backward(self, dscore):\n",
    "        # Softmax 역전파\n",
    "        dx = self.score * dscore\n",
    "        sumdx = np.sum(dx, axis=2, keepdims=True)\n",
    "        dx -= self.score * sumdx\n",
    "        # Scaling factor(나누기) 역전파\n",
    "        dx *= -(self.out ** 2)\n",
    "        # 행렬 곱 역전파\n",
    "        dquery = np.matmul(dx, self.out_key)\n",
    "        dkey = np.matmul(self.out_query_T, dx)  # 얘는 Embedding Layer로 전달\n",
    "        \n",
    "        # Key, Query Layer로 각각 역전파\n",
    "        dkey = self.time_key_layer.backward(dkey)\n",
    "        dquery = self.time_query_layer.backward(dquery)\n",
    "        \n",
    "        return dkey, dquery"
   ]
  },
  {
   "cell_type": "code",
   "execution_count": 222,
   "id": "dfa46fec",
   "metadata": {},
   "outputs": [
    {
     "name": "stdout",
     "output_type": "stream",
     "text": [
      "(10, 29, 29)\n"
     ]
    },
    {
     "ename": "ValueError",
     "evalue": "could not broadcast input array from shape (64) into shape ()",
     "output_type": "error",
     "traceback": [
      "\u001b[0;31m---------------------------------------------------------------------------\u001b[0m",
      "\u001b[0;31mValueError\u001b[0m                                Traceback (most recent call last)",
      "\u001b[0;32m/var/folders/zk/4f_4btgj0kg795_k2xhbx0vh0000gn/T/ipykernel_68790/1891005500.py\u001b[0m in \u001b[0;36m<module>\u001b[0;34m\u001b[0m\n\u001b[1;32m     11\u001b[0m \u001b[0mdscore\u001b[0m \u001b[0;34m=\u001b[0m \u001b[0mnp\u001b[0m\u001b[0;34m.\u001b[0m\u001b[0mempty_like\u001b[0m\u001b[0;34m(\u001b[0m\u001b[0mout\u001b[0m\u001b[0;34m)\u001b[0m\u001b[0;34m\u001b[0m\u001b[0;34m\u001b[0m\u001b[0m\n\u001b[1;32m     12\u001b[0m \u001b[0;34m\u001b[0m\u001b[0m\n\u001b[0;32m---> 13\u001b[0;31m \u001b[0mdkey\u001b[0m\u001b[0;34m,\u001b[0m \u001b[0mdquery\u001b[0m \u001b[0;34m=\u001b[0m \u001b[0mcomp_func\u001b[0m\u001b[0;34m.\u001b[0m\u001b[0mbackward\u001b[0m\u001b[0;34m(\u001b[0m\u001b[0mdscore\u001b[0m\u001b[0;34m)\u001b[0m\u001b[0;34m\u001b[0m\u001b[0;34m\u001b[0m\u001b[0m\n\u001b[0m",
      "\u001b[0;32m/var/folders/zk/4f_4btgj0kg795_k2xhbx0vh0000gn/T/ipykernel_68790/797264295.py\u001b[0m in \u001b[0;36mbackward\u001b[0;34m(self, dscore)\u001b[0m\n\u001b[1;32m     51\u001b[0m \u001b[0;34m\u001b[0m\u001b[0m\n\u001b[1;32m     52\u001b[0m         \u001b[0;31m# Key, Query Layer로 각각 역전파\u001b[0m\u001b[0;34m\u001b[0m\u001b[0;34m\u001b[0m\u001b[0;34m\u001b[0m\u001b[0m\n\u001b[0;32m---> 53\u001b[0;31m         \u001b[0mdkey\u001b[0m \u001b[0;34m=\u001b[0m \u001b[0mself\u001b[0m\u001b[0;34m.\u001b[0m\u001b[0mtime_key_layer\u001b[0m\u001b[0;34m.\u001b[0m\u001b[0mbackward\u001b[0m\u001b[0;34m(\u001b[0m\u001b[0mdkey\u001b[0m\u001b[0;34m)\u001b[0m\u001b[0;34m\u001b[0m\u001b[0;34m\u001b[0m\u001b[0m\n\u001b[0m\u001b[1;32m     54\u001b[0m         \u001b[0mdquery\u001b[0m \u001b[0;34m=\u001b[0m \u001b[0mself\u001b[0m\u001b[0;34m.\u001b[0m\u001b[0mtime_query_layer\u001b[0m\u001b[0;34m.\u001b[0m\u001b[0mbackward\u001b[0m\u001b[0;34m(\u001b[0m\u001b[0mdquery\u001b[0m\u001b[0;34m)\u001b[0m\u001b[0;34m\u001b[0m\u001b[0;34m\u001b[0m\u001b[0m\n\u001b[1;32m     55\u001b[0m \u001b[0;34m\u001b[0m\u001b[0m\n",
      "\u001b[0;32m/var/folders/zk/4f_4btgj0kg795_k2xhbx0vh0000gn/T/ipykernel_68790/3019625142.py\u001b[0m in \u001b[0;36mbackward\u001b[0;34m(self, dout)\u001b[0m\n\u001b[1;32m     37\u001b[0m     \u001b[0;32mdef\u001b[0m \u001b[0mbackward\u001b[0m\u001b[0;34m(\u001b[0m\u001b[0mself\u001b[0m\u001b[0;34m,\u001b[0m \u001b[0mdout\u001b[0m\u001b[0;34m)\u001b[0m\u001b[0;34m:\u001b[0m\u001b[0;34m\u001b[0m\u001b[0;34m\u001b[0m\u001b[0m\n\u001b[1;32m     38\u001b[0m         \u001b[0;32mfor\u001b[0m \u001b[0mlayer\u001b[0m \u001b[0;32min\u001b[0m \u001b[0mreversed\u001b[0m\u001b[0;34m(\u001b[0m\u001b[0mself\u001b[0m\u001b[0;34m.\u001b[0m\u001b[0mlayers\u001b[0m\u001b[0;34m)\u001b[0m\u001b[0;34m:\u001b[0m\u001b[0;34m\u001b[0m\u001b[0;34m\u001b[0m\u001b[0m\n\u001b[0;32m---> 39\u001b[0;31m             \u001b[0mdout\u001b[0m \u001b[0;34m=\u001b[0m \u001b[0mlayer\u001b[0m\u001b[0;34m.\u001b[0m\u001b[0mbackward\u001b[0m\u001b[0;34m(\u001b[0m\u001b[0mdout\u001b[0m\u001b[0;34m)\u001b[0m\u001b[0;34m\u001b[0m\u001b[0;34m\u001b[0m\u001b[0m\n\u001b[0m\u001b[1;32m     40\u001b[0m         \u001b[0;32mreturn\u001b[0m \u001b[0mdout\u001b[0m\u001b[0;34m\u001b[0m\u001b[0;34m\u001b[0m\u001b[0m\n",
      "\u001b[0;32m~/Desktop/gitrepo/DeepLearningOnlyNumpy/season2/common/time_layers.py\u001b[0m in \u001b[0;36mbackward\u001b[0;34m(self, dout)\u001b[0m\n\u001b[1;32m    233\u001b[0m \u001b[0;34m\u001b[0m\u001b[0m\n\u001b[1;32m    234\u001b[0m         \u001b[0mself\u001b[0m\u001b[0;34m.\u001b[0m\u001b[0mgrads\u001b[0m\u001b[0;34m[\u001b[0m\u001b[0;36m0\u001b[0m\u001b[0;34m]\u001b[0m\u001b[0;34m[\u001b[0m\u001b[0;34m...\u001b[0m\u001b[0;34m]\u001b[0m \u001b[0;34m=\u001b[0m \u001b[0mdW\u001b[0m\u001b[0;34m\u001b[0m\u001b[0;34m\u001b[0m\u001b[0m\n\u001b[0;32m--> 235\u001b[0;31m         \u001b[0mself\u001b[0m\u001b[0;34m.\u001b[0m\u001b[0mgrads\u001b[0m\u001b[0;34m[\u001b[0m\u001b[0;36m1\u001b[0m\u001b[0;34m]\u001b[0m\u001b[0;34m[\u001b[0m\u001b[0;34m...\u001b[0m\u001b[0;34m]\u001b[0m \u001b[0;34m=\u001b[0m \u001b[0mdb\u001b[0m\u001b[0;34m\u001b[0m\u001b[0;34m\u001b[0m\u001b[0m\n\u001b[0m\u001b[1;32m    236\u001b[0m \u001b[0;34m\u001b[0m\u001b[0m\n\u001b[1;32m    237\u001b[0m         \u001b[0;32mreturn\u001b[0m \u001b[0mdx\u001b[0m\u001b[0;34m\u001b[0m\u001b[0;34m\u001b[0m\u001b[0m\n",
      "\u001b[0;31mValueError\u001b[0m: could not broadcast input array from shape (64) into shape ()"
     ]
    }
   ],
   "source": [
    "V = len(char_to_id)\n",
    "D = 512\n",
    "d = 64\n",
    "xs = x_train[:10]\n",
    "\n",
    "# 순전파\n",
    "comp_func = CompatibilityFunction(V, D, d)\n",
    "out = comp_func.forward(xs)\n",
    "print(out.shape)\n",
    "# 역전파\n",
    "dscore = np.empty_like(out)\n",
    "\n",
    "dkey, dquery = comp_func.backward(dscore)"
   ]
  }
 ],
 "metadata": {
  "hide_input": false,
  "kernelspec": {
   "display_name": "Python 3 (ipykernel)",
   "language": "python",
   "name": "python3"
  },
  "language_info": {
   "codemirror_mode": {
    "name": "ipython",
    "version": 3
   },
   "file_extension": ".py",
   "mimetype": "text/x-python",
   "name": "python",
   "nbconvert_exporter": "python",
   "pygments_lexer": "ipython3",
   "version": "3.7.7"
  },
  "toc": {
   "base_numbering": 1,
   "nav_menu": {},
   "number_sections": true,
   "sideBar": true,
   "skip_h1_title": false,
   "title_cell": "Table of Contents",
   "title_sidebar": "Contents",
   "toc_cell": true,
   "toc_position": {},
   "toc_section_display": true,
   "toc_window_display": false
  },
  "varInspector": {
   "cols": {
    "lenName": 16,
    "lenType": 16,
    "lenVar": 40
   },
   "kernels_config": {
    "python": {
     "delete_cmd_postfix": "",
     "delete_cmd_prefix": "del ",
     "library": "var_list.py",
     "varRefreshCmd": "print(var_dic_list())"
    },
    "r": {
     "delete_cmd_postfix": ") ",
     "delete_cmd_prefix": "rm(",
     "library": "var_list.r",
     "varRefreshCmd": "cat(var_dic_list()) "
    }
   },
   "types_to_exclude": [
    "module",
    "function",
    "builtin_function_or_method",
    "instance",
    "_Feature"
   ],
   "window_display": false
  }
 },
 "nbformat": 4,
 "nbformat_minor": 5
}
