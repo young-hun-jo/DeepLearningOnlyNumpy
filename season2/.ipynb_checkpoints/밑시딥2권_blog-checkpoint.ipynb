{
 "cells": [
  {
   "cell_type": "markdown",
   "metadata": {
    "toc": true
   },
   "source": [
    "<h1>Table of Contents<span class=\"tocSkip\"></span></h1>\n",
    "<div class=\"toc\"><ul class=\"toc-item\"></ul></div>"
   ]
  },
  {
   "cell_type": "markdown",
   "metadata": {},
   "source": [
    "- 책 시즌에 따라 함수들 따로 만들자"
   ]
  },
  {
   "cell_type": "code",
   "execution_count": 1,
   "metadata": {},
   "outputs": [],
   "source": [
    "import numpy as np\n",
    "\n",
    "# Sigmoid 계층\n",
    "class Sigmoid:\n",
    "    def __init__(self):\n",
    "        self.params = []  # 시그모이드 계층 자체에는 학습 파라미터 없음\n",
    "        \n",
    "    def forward(self, x):\n",
    "        return 1 / (1 + np.exp(-x))\n",
    "    \n",
    "\n",
    "# Affine 계층\n",
    "class Affine:\n",
    "    def __init__(self, W, b):\n",
    "        self.params = [W, b]\n",
    "        \n",
    "    def forward(self, x):\n",
    "        W, b = self.params\n",
    "        out = np.matmul(x, W) + b\n",
    "        return out"
   ]
  },
  {
   "cell_type": "code",
   "execution_count": 2,
   "metadata": {},
   "outputs": [],
   "source": [
    "# 간단한 2층 신경망 클래스 구현\n",
    "class TwoLayerNet:\n",
    "    def __init__(self, input_size, hidden_size, output_size):\n",
    "        I, H, O = input_size, hidden_size, output_size\n",
    "        \n",
    "        # 가중치 초기화\n",
    "        W1 = np.random.randn(I, H)\n",
    "        b1 = np.random.randn(H)\n",
    "        W2 = np.random.randn(H, O)\n",
    "        b2 = np.random.randn(O)\n",
    "        \n",
    "        # 계층 생성\n",
    "        self.layers = [Affine(W1, b1),\n",
    "                      Sigmoid(),\n",
    "                      Affine(W2, b2)]\n",
    "        # 쌓은 계층의 파리미터를 모두 한 곳에 담기\n",
    "        self.params = []\n",
    "        for layer in self.layers:\n",
    "            self.params += layer.params\n",
    "            \n",
    "            \n",
    "    def predict(self, x):\n",
    "        for layer in self.layers:\n",
    "            x = layer.forward(x)\n",
    "        return x"
   ]
  },
  {
   "cell_type": "code",
   "execution_count": 4,
   "metadata": {},
   "outputs": [
    {
     "name": "stdout",
     "output_type": "stream",
     "text": [
      "out shape: (10, 3)\n",
      "[[-1.4063818   5.08101953  1.46658765]\n",
      " [-1.23446144  4.71059865  1.649346  ]\n",
      " [-1.54828591  5.63683197  1.75127779]\n",
      " [-1.72853295  5.35982042  1.35035028]\n",
      " [-1.13852003  4.47938842  1.81740449]\n",
      " [-1.20935076  4.30291987  1.61546482]\n",
      " [-1.36719687  5.90093879  2.11093628]\n",
      " [-1.1207242   3.90764916  2.01831779]\n",
      " [-1.41381632  5.5602985   1.8113028 ]\n",
      " [-0.88098549  4.8433152   2.04688153]]\n"
     ]
    }
   ],
   "source": [
    "# 테스트\n",
    "x = np.random.randn(10, 2)  # (batch_size, input_size)\n",
    "network = TwoLayerNet(2, 10, 3)  # (input_size, hidden_size, output_size)\n",
    "out = network.predict(x)\n",
    "print('out shape:', out.shape)\n",
    "print(out)"
   ]
  },
  {
   "cell_type": "code",
   "execution_count": 10,
   "metadata": {},
   "outputs": [
    {
     "name": "stdout",
     "output_type": "stream",
     "text": [
      "x: (1, 8)\n",
      "y: (7, 8)\n",
      "dy: (7, 8)\n",
      "dx: (1, 8)\n"
     ]
    }
   ],
   "source": [
    "# Repeat 노드\n",
    "D, N = 8, 7\n",
    "x = np.random.randn(1, D)\n",
    "y = np.repeat(x, N, axis=0) # 행 방향으로 복제!\n",
    "print('x:', x.shape)\n",
    "print('y:', y.shape)\n",
    "\n",
    "dy = np.random.randn(N, D) # (7, 8)\n",
    "dx = np.sum(dy, axis=0, keepdims=True) # 2차원 유지\n",
    "print('dy:', dy.shape)\n",
    "print('dx:', dx.shape)\n",
    "\n",
    "print()\n",
    "print()\n",
    "\n",
    "# Sum 노드 - repeat노드와 반대 관계!\n",
    "D, N = 8, 7\n",
    "x = np.random.randn(N, D) # (7, 8)\n",
    "y = np.sum(x, axis=0, keepdims=True)\n",
    "print('x:', x.shape)\n",
    "print('y:', y.shape)\n",
    "\n",
    "# 역전파\n",
    "dx = np.random.randn(1, D)\n",
    "dy = np.repeat(dx, N, axis=0)\n",
    "print('dx:', dx.shape)\n",
    "print('dy:', dy.shape)"
   ]
  },
  {
   "cell_type": "code",
   "execution_count": 11,
   "metadata": {},
   "outputs": [
    {
     "name": "stdout",
     "output_type": "stream",
     "text": [
      "x: (7, 8)\n",
      "y: (1, 8)\n",
      "dx: (1, 8)\n",
      "dy: (7, 8)\n"
     ]
    }
   ],
   "source": []
  },
  {
   "cell_type": "code",
   "execution_count": null,
   "metadata": {},
   "outputs": [],
   "source": []
  }
 ],
 "metadata": {
  "hide_input": false,
  "kernelspec": {
   "display_name": "Python 3 (ipykernel)",
   "language": "python",
   "name": "python3"
  },
  "language_info": {
   "codemirror_mode": {
    "name": "ipython",
    "version": 3
   },
   "file_extension": ".py",
   "mimetype": "text/x-python",
   "name": "python",
   "nbconvert_exporter": "python",
   "pygments_lexer": "ipython3",
   "version": "3.7.7"
  },
  "toc": {
   "base_numbering": 1,
   "nav_menu": {},
   "number_sections": true,
   "sideBar": true,
   "skip_h1_title": false,
   "title_cell": "Table of Contents",
   "title_sidebar": "Contents",
   "toc_cell": true,
   "toc_position": {},
   "toc_section_display": true,
   "toc_window_display": false
  },
  "varInspector": {
   "cols": {
    "lenName": 16,
    "lenType": 16,
    "lenVar": 40
   },
   "kernels_config": {
    "python": {
     "delete_cmd_postfix": "",
     "delete_cmd_prefix": "del ",
     "library": "var_list.py",
     "varRefreshCmd": "print(var_dic_list())"
    },
    "r": {
     "delete_cmd_postfix": ") ",
     "delete_cmd_prefix": "rm(",
     "library": "var_list.r",
     "varRefreshCmd": "cat(var_dic_list()) "
    }
   },
   "types_to_exclude": [
    "module",
    "function",
    "builtin_function_or_method",
    "instance",
    "_Feature"
   ],
   "window_display": false
  }
 },
 "nbformat": 4,
 "nbformat_minor": 4
}
